{
 "cells": [
  {
   "cell_type": "markdown",
   "metadata": {},
   "source": [
    "# Libraries"
   ]
  },
  {
   "cell_type": "code",
   "execution_count": 1,
   "metadata": {},
   "outputs": [],
   "source": [
    "import numpy as np\n",
    "import pandas as pd\n",
    "from bs4 import BeautifulSoup\n",
    "import re\n",
    "from tqdm import tqdm \n",
    "from textblob import TextBlob\n",
    "import seaborn as sns\n",
    "import matplotlib.pyplot as plt"
   ]
  },
  {
   "cell_type": "markdown",
   "metadata": {},
   "source": [
    "# Required Links"
   ]
  },
  {
   "cell_type": "code",
   "execution_count": null,
   "metadata": {},
   "outputs": [],
   "source": [
    "links=['YouTubeRewind 2015.html',\n",
    "      'YouTubeRewind 2016.html',\n",
    "      'YouTubeRewind 2019.html']\n",
    "\n",
    "videoId=['KK9bwTlAvgo','_GuOjXYl5ew','2lAe1cqCOXo']\n",
    "videoId=['Rewind 2015','Rewind 2016','Rewind 2019']"
   ]
  },
  {
   "cell_type": "markdown",
   "metadata": {},
   "source": [
    "# Function"
   ]
  },
  {
   "cell_type": "code",
   "execution_count": null,
   "metadata": {},
   "outputs": [],
   "source": [
    "def convertToNumber(txt):\n",
    "    numbers=re.findall(r'\\d+', txt)\n",
    "    return int(''.join(numbers[ : ]))"
   ]
  },
  {
   "cell_type": "code",
   "execution_count": null,
   "metadata": {},
   "outputs": [],
   "source": [
    "def generateData(soup):\n",
    "    \n",
    "    #series to store data\n",
    "    videoData=pd.Series(dtype='object')\n",
    "    \n",
    "    # \"channel name\" is in HTML tag whose class name is \"ytd-channel-name\"\n",
    "    videoData['channelName']=soup.find('yt-formatted-string',class_='ytd-channel-name').text\n",
    "    \n",
    "    # \"video title\" is in H1 HTML tag whose class name is \"title\"\n",
    "    videoData['title']=soup.find('h1',class_='title').text\n",
    "    \n",
    "    # \"video length\" is in HTML tag whose class name is \"ytp-bound-time-right\"\n",
    "    videoData['videoLength']=soup.find(class_='ytp-bound-time-right').text\n",
    "\n",
    "    # Total \"views\" of a video is in \"<span>\" whose class name is \"view-count\"\n",
    "    views=soup.find('span',class_='view-count').text # return like \"15,113 views\"\n",
    "    videoData['views']=convertToNumber(views) # this will convert str into numeric i.e 15113\n",
    "\n",
    "    # Total \"likes\" of a video is in \"aria-label\" attribute of an 2nd(or 1 index value) HTML tag\n",
    "    likes=soup.find_all(class_='style-scope ytd-toggle-button-renderer style-text')[1]['aria-label']\n",
    "    videoData['likes']=convertToNumber(likes)\n",
    "\n",
    "    # Total \"dislikes\" of a video is in \"aria-label\" attribute of an 2nd(or 3 index value) HTML tag\n",
    "    dislikes=soup.find_all(class_='style-scope ytd-toggle-button-renderer style-text')[3]['aria-label']\n",
    "    videoData['dislikes']=convertToNumber(dislikes)\n",
    "    \n",
    "    #total \"comments\" of video is in <div id='contents'>\n",
    "    allComments=soup.find_all('div',id='contents')\n",
    "    cmts=allComments[0].find_all(id='author-text')\n",
    "    \n",
    "    lowerLimit=1 \n",
    "    upperLimit=201 #total comment I want to extract from a video\n",
    "\n",
    "    users=[] \n",
    "    comments=[]\n",
    "\n",
    "    #loop to extract each comment and tqdm is used to show progress bars\n",
    "    for i in tqdm(range(lowerLimit,upperLimit)):\n",
    "        userName=allComments[0].find_all(id='author-text')[i].text.strip()\n",
    "        comment=allComments[0].find_all(id='content-text')[i].text.strip()\n",
    "\n",
    "        users.append(userName)\n",
    "        comments.append(comment.strip())\n",
    "    videoData['users']=np.array(users)\n",
    "    videoData['comments']=np.array(comments)\n",
    "    return videoData"
   ]
  },
  {
   "cell_type": "code",
   "execution_count": null,
   "metadata": {},
   "outputs": [],
   "source": [
    "#this function will generate the dataframe of extracted data into rows and columns\n",
    "def generateDataframe(videoData):\n",
    "    df=pd.DataFrame()\n",
    "    df['username']=videoData['users']\n",
    "    df['comment']=videoData['comments']\n",
    "    df['videoid']=videoData['videoid']\n",
    "    df['title']=videoData['title']\n",
    "    df['views']=videoData['views']\n",
    "    df['likes']=videoData['likes']\n",
    "    df['dislikes']=videoData['dislikes']\n",
    "    return df"
   ]
  },
  {
   "cell_type": "raw",
   "metadata": {},
   "source": [
    "The below function is used to generate polarities (i.e a comment is positive, neutral or negative)\n",
    "of comments that are extracted from a video and\n",
    "\"TextBolb\" pre-defined library is used."
   ]
  },
  {
   "cell_type": "code",
   "execution_count": null,
   "metadata": {},
   "outputs": [],
   "source": [
    "def generatepolarity(df):\n",
    "    polarity=[]\n",
    "    \n",
    "    #loop to go through each comment and get polarity\n",
    "    for i in df['comment']:\n",
    "        c1=TextBlob(str(i))\n",
    "        polarity.append(c1.sentiment[0])\n",
    "    df['polarity']=polarity    \n",
    "\n",
    "    #labeling polarity\n",
    "    label=[]\n",
    "    for i in df['polarity']:\n",
    "        if(i<0):\n",
    "            label.append('negative')#negative\n",
    "        elif(i==0):\n",
    "            label.append('neutral')#neutral\n",
    "        elif(i>0):\n",
    "            label.append('positive')#positive\n",
    "    df['label']=label\n",
    "    return df"
   ]
  },
  {
   "cell_type": "markdown",
   "metadata": {},
   "source": [
    "# Generate Data"
   ]
  },
  {
   "cell_type": "raw",
   "metadata": {},
   "source": [
    "If the webpage is static use this method\n",
    "URL = 'https://www.youtube.com/watch?v=hxRJTjeDvuY'\n",
    "page = requests.get(URL)\n",
    "soup = BeautifulSoup(page.content, 'lxml')"
   ]
  },
  {
   "cell_type": "code",
   "execution_count": null,
   "metadata": {},
   "outputs": [],
   "source": [
    "count=1\n",
    "#iterate to each HTML page/video page\n",
    "for ids,link in zip(videoId,links):\n",
    "    \n",
    "    #pulling data out of HTML\n",
    "    soup = BeautifulSoup(open(link,'r+',encoding='utf8').read())\n",
    "    \n",
    "    videoData=generateData(soup)\n",
    "    videoData['videoid']=ids\n",
    "    df=generateDataframe(videoData)\n",
    "    df=generatepolarity(df)\n",
    "    \n",
    "    #creating dataframe for each video\n",
    "    fn='myDataDf'+str(count)+'.csv'\n",
    "    df.to_csv(fn,index=False)\n",
    "    count+=1D"
   ]
  },
  {
   "cell_type": "code",
   "execution_count": null,
   "metadata": {},
   "outputs": [],
   "source": [
    "df=df.reindex(columns=['videoid', 'title','username', 'comment' , 'views', 'likes', 'dislikes',\n",
    "       'polarity', 'label'])"
   ]
  },
  {
   "cell_type": "code",
   "execution_count": null,
   "metadata": {},
   "outputs": [],
   "source": [
    "df4=pd.concat([pd.read_csv('myDataDf1.csv'),pd.read_csv('myDataDf2.csv'),pd.read_csv('myDataDf3.csv')],ignore_index=True)\n",
    "df4.to_csv('myDataDf.csv',index=False)\n",
    "df4.sample(10)"
   ]
  },
  {
   "cell_type": "markdown",
   "metadata": {},
   "source": [
    "# Data Visualization"
   ]
  },
  {
   "cell_type": "code",
   "execution_count": 18,
   "metadata": {},
   "outputs": [
    {
     "data": {
      "text/html": [
       "<div>\n",
       "<style scoped>\n",
       "    .dataframe tbody tr th:only-of-type {\n",
       "        vertical-align: middle;\n",
       "    }\n",
       "\n",
       "    .dataframe tbody tr th {\n",
       "        vertical-align: top;\n",
       "    }\n",
       "\n",
       "    .dataframe thead th {\n",
       "        text-align: right;\n",
       "    }\n",
       "</style>\n",
       "<table border=\"1\" class=\"dataframe\">\n",
       "  <thead>\n",
       "    <tr style=\"text-align: right;\">\n",
       "      <th></th>\n",
       "      <th>username</th>\n",
       "      <th>comment</th>\n",
       "      <th>videoid</th>\n",
       "      <th>title</th>\n",
       "      <th>views</th>\n",
       "      <th>likes</th>\n",
       "      <th>dislikes</th>\n",
       "      <th>polarity</th>\n",
       "      <th>label</th>\n",
       "    </tr>\n",
       "  </thead>\n",
       "  <tbody>\n",
       "    <tr>\n",
       "      <th>0</th>\n",
       "      <td>Maisie Mears</td>\n",
       "      <td>Only here because 2019 wasn’t even a rewind ffs</td>\n",
       "      <td>Rewind 2015</td>\n",
       "      <td>YouTube Rewind: Now Watch Me 2015 | #YouTubeRe...</td>\n",
       "      <td>151641936</td>\n",
       "      <td>2899029</td>\n",
       "      <td>208570</td>\n",
       "      <td>0.00</td>\n",
       "      <td>neutral</td>\n",
       "    </tr>\n",
       "    <tr>\n",
       "      <th>1</th>\n",
       "      <td>iambirb</td>\n",
       "      <td>5 years later and I just now realize the dance...</td>\n",
       "      <td>Rewind 2015</td>\n",
       "      <td>YouTube Rewind: Now Watch Me 2015 | #YouTubeRe...</td>\n",
       "      <td>151641936</td>\n",
       "      <td>2899029</td>\n",
       "      <td>208570</td>\n",
       "      <td>0.00</td>\n",
       "      <td>neutral</td>\n",
       "    </tr>\n",
       "    <tr>\n",
       "      <th>2</th>\n",
       "      <td>juliaa</td>\n",
       "      <td>this made me so nostalgic i felt like crying. ...</td>\n",
       "      <td>Rewind 2015</td>\n",
       "      <td>YouTube Rewind: Now Watch Me 2015 | #YouTubeRe...</td>\n",
       "      <td>151641936</td>\n",
       "      <td>2899029</td>\n",
       "      <td>208570</td>\n",
       "      <td>0.10</td>\n",
       "      <td>positive</td>\n",
       "    </tr>\n",
       "    <tr>\n",
       "      <th>3</th>\n",
       "      <td>Erf Boy</td>\n",
       "      <td>Only people who hated Rewind 2019 can like thi...</td>\n",
       "      <td>Rewind 2015</td>\n",
       "      <td>YouTube Rewind: Now Watch Me 2015 | #YouTubeRe...</td>\n",
       "      <td>151641936</td>\n",
       "      <td>2899029</td>\n",
       "      <td>208570</td>\n",
       "      <td>-0.45</td>\n",
       "      <td>negative</td>\n",
       "    </tr>\n",
       "    <tr>\n",
       "      <th>4</th>\n",
       "      <td>Mohit</td>\n",
       "      <td>who else is here after the terrible 2018 rewind?</td>\n",
       "      <td>Rewind 2015</td>\n",
       "      <td>YouTube Rewind: Now Watch Me 2015 | #YouTubeRe...</td>\n",
       "      <td>151641936</td>\n",
       "      <td>2899029</td>\n",
       "      <td>208570</td>\n",
       "      <td>-1.00</td>\n",
       "      <td>negative</td>\n",
       "    </tr>\n",
       "  </tbody>\n",
       "</table>\n",
       "</div>"
      ],
      "text/plain": [
       "       username                                            comment  \\\n",
       "0  Maisie Mears    Only here because 2019 wasn’t even a rewind ffs   \n",
       "1       iambirb  5 years later and I just now realize the dance...   \n",
       "2        juliaa  this made me so nostalgic i felt like crying. ...   \n",
       "3       Erf Boy  Only people who hated Rewind 2019 can like thi...   \n",
       "4         Mohit   who else is here after the terrible 2018 rewind?   \n",
       "\n",
       "       videoid                                              title      views  \\\n",
       "0  Rewind 2015  YouTube Rewind: Now Watch Me 2015 | #YouTubeRe...  151641936   \n",
       "1  Rewind 2015  YouTube Rewind: Now Watch Me 2015 | #YouTubeRe...  151641936   \n",
       "2  Rewind 2015  YouTube Rewind: Now Watch Me 2015 | #YouTubeRe...  151641936   \n",
       "3  Rewind 2015  YouTube Rewind: Now Watch Me 2015 | #YouTubeRe...  151641936   \n",
       "4  Rewind 2015  YouTube Rewind: Now Watch Me 2015 | #YouTubeRe...  151641936   \n",
       "\n",
       "     likes  dislikes  polarity     label  \n",
       "0  2899029    208570      0.00   neutral  \n",
       "1  2899029    208570      0.00   neutral  \n",
       "2  2899029    208570      0.10  positive  \n",
       "3  2899029    208570     -0.45  negative  \n",
       "4  2899029    208570     -1.00  negative  "
      ]
     },
     "execution_count": 18,
     "metadata": {},
     "output_type": "execute_result"
    }
   ],
   "source": [
    "df=pd.read_csv('myDataDf.csv')\n",
    "df.head()"
   ]
  },
  {
   "cell_type": "markdown",
   "metadata": {},
   "source": [
    "## 1) Analysing Polarity"
   ]
  },
  {
   "cell_type": "code",
   "execution_count": 19,
   "metadata": {},
   "outputs": [
    {
     "data": {
      "text/html": [
       "<div>\n",
       "<style scoped>\n",
       "    .dataframe tbody tr th:only-of-type {\n",
       "        vertical-align: middle;\n",
       "    }\n",
       "\n",
       "    .dataframe tbody tr th {\n",
       "        vertical-align: top;\n",
       "    }\n",
       "\n",
       "    .dataframe thead th {\n",
       "        text-align: right;\n",
       "    }\n",
       "</style>\n",
       "<table border=\"1\" class=\"dataframe\">\n",
       "  <thead>\n",
       "    <tr style=\"text-align: right;\">\n",
       "      <th>label</th>\n",
       "      <th>negative</th>\n",
       "      <th>neutral</th>\n",
       "      <th>positive</th>\n",
       "      <th>total</th>\n",
       "      <th>posFraction</th>\n",
       "      <th>negFraction</th>\n",
       "      <th>neuFraction</th>\n",
       "    </tr>\n",
       "    <tr>\n",
       "      <th>videoid</th>\n",
       "      <th></th>\n",
       "      <th></th>\n",
       "      <th></th>\n",
       "      <th></th>\n",
       "      <th></th>\n",
       "      <th></th>\n",
       "      <th></th>\n",
       "    </tr>\n",
       "  </thead>\n",
       "  <tbody>\n",
       "    <tr>\n",
       "      <th>Rewind 2015</th>\n",
       "      <td>32</td>\n",
       "      <td>73</td>\n",
       "      <td>95</td>\n",
       "      <td>200</td>\n",
       "      <td>0.475</td>\n",
       "      <td>0.16</td>\n",
       "      <td>0.365</td>\n",
       "    </tr>\n",
       "    <tr>\n",
       "      <th>Rewind 2016</th>\n",
       "      <td>32</td>\n",
       "      <td>87</td>\n",
       "      <td>81</td>\n",
       "      <td>200</td>\n",
       "      <td>0.405</td>\n",
       "      <td>0.16</td>\n",
       "      <td>0.435</td>\n",
       "    </tr>\n",
       "    <tr>\n",
       "      <th>Rewind 2019</th>\n",
       "      <td>46</td>\n",
       "      <td>74</td>\n",
       "      <td>80</td>\n",
       "      <td>200</td>\n",
       "      <td>0.400</td>\n",
       "      <td>0.23</td>\n",
       "      <td>0.370</td>\n",
       "    </tr>\n",
       "  </tbody>\n",
       "</table>\n",
       "</div>"
      ],
      "text/plain": [
       "label        negative  neutral  positive  total  posFraction  negFraction  \\\n",
       "videoid                                                                     \n",
       "Rewind 2015        32       73        95    200        0.475         0.16   \n",
       "Rewind 2016        32       87        81    200        0.405         0.16   \n",
       "Rewind 2019        46       74        80    200        0.400         0.23   \n",
       "\n",
       "label        neuFraction  \n",
       "videoid                   \n",
       "Rewind 2015        0.365  \n",
       "Rewind 2016        0.435  \n",
       "Rewind 2019        0.370  "
      ]
     },
     "execution_count": 19,
     "metadata": {},
     "output_type": "execute_result"
    }
   ],
   "source": [
    "df2=pd.crosstab(df['videoid'],df['label'])\n",
    "df2['total']=df2.sum(axis=1)\n",
    "df2['posFraction']=df2['positive']/df2['total']\n",
    "df2['negFraction']=df2['negative']/df2['total']\n",
    "df2['neuFraction']=df2['neutral']/df2['total']\n",
    "df2"
   ]
  },
  {
   "cell_type": "code",
   "execution_count": 20,
   "metadata": {},
   "outputs": [
    {
     "data": {
      "image/png": "[encoded data removed]",
      "text/plain": [
       "<Figure size 1080x360 with 3 Axes>"
      ]
     },
     "metadata": {
      "needs_background": "light"
     },
     "output_type": "display_data"
    }
   ],
   "source": [
    "fig,axs=plt.subplots(ncols=3)\n",
    "fig.set_size_inches(15,5)\n",
    "sns.barplot(df.label.unique(),df2[df.label.unique()].loc['Rewind 2015'],ax=axs[0])\n",
    "sns.barplot(df.label.unique(),df2[df.label.unique()].loc['Rewind 2016'],ax=axs[1])\n",
    "sns.barplot(df.label.unique(),df2[df.label.unique()].loc['Rewind 2019'],ax=axs[2])\n",
    "\n",
    "for i in range(len(df2[df.label.unique()].index)):\n",
    "    col=df2[df.label.unique()].index[i]\n",
    "    for x, y in enumerate(df2[df.label.unique()].loc[col]):\n",
    "        axs[i].text(x, y, str(y), ha=\"center\")\n",
    "    axs[i].set_ylabel(\"Comments\")\n",
    "    axs[i].set_title(col)\n",
    "plt.show();\n",
    "fig.savefig('analysing-polarity-1.jpg', format='jpg', dpi=600)    "
   ]
  },
  {
   "cell_type": "code",
   "execution_count": 21,
   "metadata": {},
   "outputs": [
    {
     "data": {
      "image/png": "[encoded data removed]",
      "text/plain": [
       "<Figure size 432x288 with 1 Axes>"
      ]
     },
     "metadata": {
      "needs_background": "light"
     },
     "output_type": "display_data"
    }
   ],
   "source": [
    "fig,axs=plt.subplots()\n",
    "plt.bar(df2.index, df2.posFraction, color='Green');\n",
    "plt.bar(df2.index, df2.neuFraction, bottom=df2.posFraction, color='lightblue');\n",
    "plt.bar(df2.index, df2.negFraction, bottom=df2.posFraction + df2.neuFraction, color='Red');\n",
    "plt.legend(df2.columns,bbox_to_anchor=(0.3, 0.9, 1., .102))\n",
    "plt.show();\n",
    "fig.savefig('analysing-polarity-2.jpg', format='jpg', dpi=600, bbox_inches='tight')    "
   ]
  },
  {
   "cell_type": "code",
   "execution_count": 6,
   "metadata": {},
   "outputs": [
    {
     "data": {
      "text/html": [
       "<div>\n",
       "<style scoped>\n",
       "    .dataframe tbody tr th:only-of-type {\n",
       "        vertical-align: middle;\n",
       "    }\n",
       "\n",
       "    .dataframe tbody tr th {\n",
       "        vertical-align: top;\n",
       "    }\n",
       "\n",
       "    .dataframe thead th {\n",
       "        text-align: right;\n",
       "    }\n",
       "</style>\n",
       "<table border=\"1\" class=\"dataframe\">\n",
       "  <thead>\n",
       "    <tr style=\"text-align: right;\">\n",
       "      <th>label</th>\n",
       "      <th>negative</th>\n",
       "      <th>neutral</th>\n",
       "      <th>positive</th>\n",
       "    </tr>\n",
       "    <tr>\n",
       "      <th>videoid</th>\n",
       "      <th></th>\n",
       "      <th></th>\n",
       "      <th></th>\n",
       "    </tr>\n",
       "  </thead>\n",
       "  <tbody>\n",
       "    <tr>\n",
       "      <th>Rewind 2015</th>\n",
       "      <td>32</td>\n",
       "      <td>73</td>\n",
       "      <td>95</td>\n",
       "    </tr>\n",
       "    <tr>\n",
       "      <th>Rewind 2016</th>\n",
       "      <td>32</td>\n",
       "      <td>87</td>\n",
       "      <td>81</td>\n",
       "    </tr>\n",
       "    <tr>\n",
       "      <th>Rewind 2019</th>\n",
       "      <td>46</td>\n",
       "      <td>74</td>\n",
       "      <td>80</td>\n",
       "    </tr>\n",
       "  </tbody>\n",
       "</table>\n",
       "</div>"
      ],
      "text/plain": [
       "label        negative  neutral  positive\n",
       "videoid                                 \n",
       "Rewind 2015        32       73        95\n",
       "Rewind 2016        32       87        81\n",
       "Rewind 2019        46       74        80"
      ]
     },
     "execution_count": 6,
     "metadata": {},
     "output_type": "execute_result"
    }
   ],
   "source": [
    "df2[['negative','neutral','positive']]"
   ]
  },
  {
   "cell_type": "code",
   "execution_count": 22,
   "metadata": {},
   "outputs": [
    {
     "data": {
      "image/png": "[encoded data removed]",
      "text/plain": [
       "<Figure size 432x288 with 1 Axes>"
      ]
     },
     "metadata": {},
     "output_type": "display_data"
    }
   ],
   "source": [
    "cmap = plt.get_cmap('tab10')\n",
    "outer_colors = cmap(np.array([0, 1, 4]))\n",
    "inner_colors = cmap(np.array([3, 9, 2, 3, 9, 2, 3, 9, 2]))\n",
    "fig,axs=plt.subplots()\n",
    "plt.pie(df2.total, labels=df2.index, wedgeprops=dict(width=0.3),colors=outer_colors);\n",
    "p1 =plt.pie(df2[['negative','neutral','positive']].values.flatten(),\n",
    "                                  labels = df2[['negative','neutral','positive']].values.flatten(),\n",
    "                                  labeldistance=0.7 ,rotatelabels=True,radius=0.7, wedgeprops=dict(width=0.3),\n",
    "                                  colors=inner_colors,frame=True);\n",
    "plt.legend(p1[0], ['negative','neutral','positive'],title=\"Polarities Class\",loc=\"center left\",bbox_to_anchor=(1, 0, 0.5, 1))\n",
    "fig.savefig('analysing-polarity-3.jpg', format='jpg', dpi=600, bbox_inches='tight')\n",
    "plt.show();"
   ]
  },
  {
   "cell_type": "markdown",
   "metadata": {},
   "source": [
    "## 2) Analysing Views"
   ]
  },
  {
   "cell_type": "code",
   "execution_count": 8,
   "metadata": {},
   "outputs": [
    {
     "data": {
      "image/png": "[encoded data removed]",
      "text/plain": [
       "<Figure size 432x288 with 1 Axes>"
      ]
     },
     "metadata": {
      "needs_background": "light"
     },
     "output_type": "display_data"
    }
   ],
   "source": [
    "df2=df[['videoid','views']].groupby('videoid').mean()\n",
    "fig,axs=plt.subplots()\n",
    "sns.barplot(df2.index, df2.views, color='blue',palette=\"Blues_d\");\n",
    "plt.xlabel('Video Title')\n",
    "plt.ylabel('Views')\n",
    "for x, val in enumerate(df2.index):\n",
    "    y = df2.loc[val, 'views']+1000000\n",
    "    plt.text(x, y, str(y), ha=\"center\");\n",
    "fig.savefig('analysing-views-1.jpg', format='jpg', dpi=1200, bbox_inches='tight')"
   ]
  },
  {
   "cell_type": "markdown",
   "metadata": {},
   "source": [
    "## 3) Analysing Likes and Dislikes"
   ]
  },
  {
   "cell_type": "code",
   "execution_count": 13,
   "metadata": {},
   "outputs": [
    {
     "data": {
      "text/html": [
       "<div>\n",
       "<style scoped>\n",
       "    .dataframe tbody tr th:only-of-type {\n",
       "        vertical-align: middle;\n",
       "    }\n",
       "\n",
       "    .dataframe tbody tr th {\n",
       "        vertical-align: top;\n",
       "    }\n",
       "\n",
       "    .dataframe thead th {\n",
       "        text-align: right;\n",
       "    }\n",
       "</style>\n",
       "<table border=\"1\" class=\"dataframe\">\n",
       "  <thead>\n",
       "    <tr style=\"text-align: right;\">\n",
       "      <th></th>\n",
       "      <th>likes</th>\n",
       "      <th>dislikes</th>\n",
       "      <th>total</th>\n",
       "      <th>likesFraction</th>\n",
       "      <th>dislikesFraction</th>\n",
       "    </tr>\n",
       "    <tr>\n",
       "      <th>videoid</th>\n",
       "      <th></th>\n",
       "      <th></th>\n",
       "      <th></th>\n",
       "      <th></th>\n",
       "      <th></th>\n",
       "    </tr>\n",
       "  </thead>\n",
       "  <tbody>\n",
       "    <tr>\n",
       "      <th>Rewind 2015</th>\n",
       "      <td>2899029</td>\n",
       "      <td>208570</td>\n",
       "      <td>3107599</td>\n",
       "      <td>0.932884</td>\n",
       "      <td>0.067116</td>\n",
       "    </tr>\n",
       "    <tr>\n",
       "      <th>Rewind 2016</th>\n",
       "      <td>3904159</td>\n",
       "      <td>563822</td>\n",
       "      <td>4467981</td>\n",
       "      <td>0.873808</td>\n",
       "      <td>0.126192</td>\n",
       "    </tr>\n",
       "    <tr>\n",
       "      <th>Rewind 2019</th>\n",
       "      <td>3332526</td>\n",
       "      <td>8749993</td>\n",
       "      <td>12082519</td>\n",
       "      <td>0.275814</td>\n",
       "      <td>0.724186</td>\n",
       "    </tr>\n",
       "  </tbody>\n",
       "</table>\n",
       "</div>"
      ],
      "text/plain": [
       "               likes  dislikes     total  likesFraction  dislikesFraction\n",
       "videoid                                                                  \n",
       "Rewind 2015  2899029    208570   3107599       0.932884          0.067116\n",
       "Rewind 2016  3904159    563822   4467981       0.873808          0.126192\n",
       "Rewind 2019  3332526   8749993  12082519       0.275814          0.724186"
      ]
     },
     "execution_count": 13,
     "metadata": {},
     "output_type": "execute_result"
    }
   ],
   "source": [
    "df2=df[['videoid','likes','dislikes']].groupby('videoid').mean()\n",
    "df2['total']=df2.sum(axis=1)\n",
    "df2['likesFraction']=df2['likes']/df2['total']\n",
    "df2['dislikesFraction']=df2['dislikes']/df2['total']\n",
    "df2"
   ]
  },
  {
   "cell_type": "code",
   "execution_count": 14,
   "metadata": {},
   "outputs": [
    {
     "data": {
      "image/png": "[encoded data removed]",
      "text/plain": [
       "<Figure size 720x360 with 2 Axes>"
      ]
     },
     "metadata": {
      "needs_background": "light"
     },
     "output_type": "display_data"
    },
    {
     "data": {
      "text/plain": [
       "<Figure size 432x288 with 0 Axes>"
      ]
     },
     "metadata": {},
     "output_type": "display_data"
    }
   ],
   "source": [
    "fig,axs=plt.subplots(ncols=2)\n",
    "fig.set_size_inches(10,5)\n",
    "sns.barplot(df2.index, df2.likes, color='Green',ax=axs[0]);\n",
    "sns.barplot(df2.index, df2.dislikes, color='red',ax=axs[1]);\n",
    "for x, val in enumerate(df2.index):\n",
    "    y1 = df2.loc[val, 'likes']+1000\n",
    "    y2 = df2.loc[val, 'dislikes']+1000\n",
    "    axs[0].text(x, y1, str(y1), ha=\"center\");\n",
    "    axs[1].text(x, y2, str(y2), ha=\"center\");\n",
    "    axs[0].set_title(\"Figure 1\")\n",
    "    axs[1].set_title(\"Figure 2\")\n",
    "plt.show()\n",
    "plt.tight_layout()\n",
    "fig.savefig('analysing-likes-dislikes-1.jpg', format='jpg', dpi=1200, bbox_inches='tight');"
   ]
  },
  {
   "cell_type": "code",
   "execution_count": 15,
   "metadata": {},
   "outputs": [
    {
     "data": {
      "image/png": "[encoded data removed]",
      "text/plain": [
       "<Figure size 432x288 with 1 Axes>"
      ]
     },
     "metadata": {
      "needs_background": "light"
     },
     "output_type": "display_data"
    }
   ],
   "source": [
    "fig = plt.gcf();\n",
    "fig.set_size_inches(6, 4);\n",
    "sns.barplot(df2.index, df2.likes, color='Green',label='Likes');\n",
    "sns.barplot(df2.index, df2.dislikes, bottom=df2.likes, color='red',label='Dislikes');\n",
    "plt.ylabel(\"Likes/Dislikes\")\n",
    "plt.xlabel(\"Video Title\")\n",
    "plt.title(\"Figure 3\")\n",
    "plt.legend()\n",
    "plt.show()\n",
    "fig.savefig('analysing-likes-dislikes-2.jpg', format='jpg', dpi=1200, bbox_inches='tight');"
   ]
  },
  {
   "cell_type": "code",
   "execution_count": 17,
   "metadata": {},
   "outputs": [
    {
     "data": {
      "image/png": "[encoded data removed]",
      "text/plain": [
       "<Figure size 432x288 with 1 Axes>"
      ]
     },
     "metadata": {
      "needs_background": "light"
     },
     "output_type": "display_data"
    }
   ],
   "source": [
    "fig = plt.gcf();\n",
    "fig.set_size_inches(6, 4);\n",
    "p1=sns.barplot(df2.index, df2.likesFraction, color='Green',label='Likes');\n",
    "p2=sns.barplot(df2.index, df2.dislikesFraction, bottom=df2.likesFraction, color='red',label='Dislikes');\n",
    "plt.ylabel(\"Likes/Dislikes\")\n",
    "plt.xlabel(\"Video Title\")\n",
    "plt.legend(bbox_to_anchor=(0.25, 0.915, 1., .102))\n",
    "plt.title(\"Figure 4\")\n",
    "plt.show()\n",
    "fig.savefig('analysing-likes-dislikes-3.jpg', format='jpg', dpi=1200, bbox_inches='tight');"
   ]
  },
  {
   "cell_type": "code",
   "execution_count": null,
   "metadata": {},
   "outputs": [],
   "source": []
  },
  {
   "cell_type": "code",
   "execution_count": null,
   "metadata": {},
   "outputs": [],
   "source": []
  }
 ],
 "metadata": {
  "kernelspec": {
   "display_name": "Python 3",
   "language": "python",
   "name": "python3"
  },
  "language_info": {
   "codemirror_mode": {
    "name": "ipython",
    "version": 3
   },
   "file_extension": ".py",
   "mimetype": "text/x-python",
   "name": "python",
   "nbconvert_exporter": "python",
   "pygments_lexer": "ipython3",
   "version": "3.8.3"
  }
 },
 "nbformat": 4,
 "nbformat_minor": 4
}
